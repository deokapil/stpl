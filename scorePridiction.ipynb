{
 "cells": [
  {
   "cell_type": "code",
   "execution_count": 73,
   "metadata": {},
   "outputs": [],
   "source": [
    "import numpy as np\n",
    "import pandas as pd\n",
    "import seaborn as sns\n",
    "import matplotlib.pyplot as plt"
   ]
  },
  {
   "cell_type": "code",
   "execution_count": 74,
   "metadata": {},
   "outputs": [],
   "source": [
    "df = pd.read_csv(\"./Datasets/scorePridiction.csv\")"
   ]
  },
  {
   "cell_type": "markdown",
   "metadata": {},
   "source": [
    "# EDA\n"
   ]
  },
  {
   "cell_type": "code",
   "execution_count": 75,
   "metadata": {},
   "outputs": [],
   "source": [
    "# Remove whitespace from column names\n",
    "df.columns = df.columns.str.strip()\n",
    "\n",
    "# Strip whitespace from string values in object columns\n",
    "for col in df.select_dtypes(include='object').columns:\n",
    "    df[col] = df[col].str.strip()"
   ]
  },
  {
   "cell_type": "code",
   "execution_count": 76,
   "metadata": {},
   "outputs": [
    {
     "data": {
      "text/plain": [
       "(260920, 15)"
      ]
     },
     "execution_count": 76,
     "metadata": {},
     "output_type": "execute_result"
    }
   ],
   "source": [
    "df.shape"
   ]
  },
  {
   "cell_type": "code",
   "execution_count": 77,
   "metadata": {},
   "outputs": [
    {
     "data": {
      "text/plain": [
       "0"
      ]
     },
     "execution_count": 77,
     "metadata": {},
     "output_type": "execute_result"
    }
   ],
   "source": [
    "df.duplicated().sum()"
   ]
  },
  {
   "cell_type": "code",
   "execution_count": 78,
   "metadata": {},
   "outputs": [
    {
     "data": {
      "text/html": [
       "<div>\n",
       "<style scoped>\n",
       "    .dataframe tbody tr th:only-of-type {\n",
       "        vertical-align: middle;\n",
       "    }\n",
       "\n",
       "    .dataframe tbody tr th {\n",
       "        vertical-align: top;\n",
       "    }\n",
       "\n",
       "    .dataframe thead th {\n",
       "        text-align: right;\n",
       "    }\n",
       "</style>\n",
       "<table border=\"1\" class=\"dataframe\">\n",
       "  <thead>\n",
       "    <tr style=\"text-align: right;\">\n",
       "      <th></th>\n",
       "      <th>mid</th>\n",
       "      <th>date</th>\n",
       "      <th>venue</th>\n",
       "      <th>bat_team</th>\n",
       "      <th>bowl_team</th>\n",
       "      <th>batsman</th>\n",
       "      <th>bowler</th>\n",
       "      <th>runs</th>\n",
       "      <th>wickets</th>\n",
       "      <th>overs</th>\n",
       "      <th>runs_last_5</th>\n",
       "      <th>wickets_last_5</th>\n",
       "      <th>striker</th>\n",
       "      <th>non_striker</th>\n",
       "      <th>total</th>\n",
       "    </tr>\n",
       "  </thead>\n",
       "  <tbody>\n",
       "    <tr>\n",
       "      <th>0</th>\n",
       "      <td>335982</td>\n",
       "      <td>2008-04-18</td>\n",
       "      <td>M Chinnaswamy Stadium</td>\n",
       "      <td>Kolkata Knight Riders</td>\n",
       "      <td>Royal Challengers Bangalore</td>\n",
       "      <td>SC Ganguly</td>\n",
       "      <td>P Kumar</td>\n",
       "      <td>1</td>\n",
       "      <td>1</td>\n",
       "      <td>0.0</td>\n",
       "      <td>1.0</td>\n",
       "      <td>1.0</td>\n",
       "      <td>1</td>\n",
       "      <td>0</td>\n",
       "      <td>1</td>\n",
       "    </tr>\n",
       "    <tr>\n",
       "      <th>1</th>\n",
       "      <td>335982</td>\n",
       "      <td>2008-04-18</td>\n",
       "      <td>M Chinnaswamy Stadium</td>\n",
       "      <td>Kolkata Knight Riders</td>\n",
       "      <td>Royal Challengers Bangalore</td>\n",
       "      <td>BB McCullum</td>\n",
       "      <td>P Kumar</td>\n",
       "      <td>0</td>\n",
       "      <td>2</td>\n",
       "      <td>0.1</td>\n",
       "      <td>1.0</td>\n",
       "      <td>2.0</td>\n",
       "      <td>1</td>\n",
       "      <td>1</td>\n",
       "      <td>1</td>\n",
       "    </tr>\n",
       "    <tr>\n",
       "      <th>2</th>\n",
       "      <td>335982</td>\n",
       "      <td>2008-04-18</td>\n",
       "      <td>M Chinnaswamy Stadium</td>\n",
       "      <td>Kolkata Knight Riders</td>\n",
       "      <td>Royal Challengers Bangalore</td>\n",
       "      <td>BB McCullum</td>\n",
       "      <td>P Kumar</td>\n",
       "      <td>1</td>\n",
       "      <td>3</td>\n",
       "      <td>0.2</td>\n",
       "      <td>2.0</td>\n",
       "      <td>3.0</td>\n",
       "      <td>2</td>\n",
       "      <td>1</td>\n",
       "      <td>2</td>\n",
       "    </tr>\n",
       "    <tr>\n",
       "      <th>3</th>\n",
       "      <td>335982</td>\n",
       "      <td>2008-04-18</td>\n",
       "      <td>M Chinnaswamy Stadium</td>\n",
       "      <td>Kolkata Knight Riders</td>\n",
       "      <td>Royal Challengers Bangalore</td>\n",
       "      <td>BB McCullum</td>\n",
       "      <td>P Kumar</td>\n",
       "      <td>0</td>\n",
       "      <td>4</td>\n",
       "      <td>0.3</td>\n",
       "      <td>2.0</td>\n",
       "      <td>4.0</td>\n",
       "      <td>2</td>\n",
       "      <td>2</td>\n",
       "      <td>2</td>\n",
       "    </tr>\n",
       "    <tr>\n",
       "      <th>4</th>\n",
       "      <td>335982</td>\n",
       "      <td>2008-04-18</td>\n",
       "      <td>M Chinnaswamy Stadium</td>\n",
       "      <td>Kolkata Knight Riders</td>\n",
       "      <td>Royal Challengers Bangalore</td>\n",
       "      <td>BB McCullum</td>\n",
       "      <td>P Kumar</td>\n",
       "      <td>0</td>\n",
       "      <td>5</td>\n",
       "      <td>0.4</td>\n",
       "      <td>2.0</td>\n",
       "      <td>5.0</td>\n",
       "      <td>2</td>\n",
       "      <td>2</td>\n",
       "      <td>2</td>\n",
       "    </tr>\n",
       "  </tbody>\n",
       "</table>\n",
       "</div>"
      ],
      "text/plain": [
       "      mid        date                  venue               bat_team  \\\n",
       "0  335982  2008-04-18  M Chinnaswamy Stadium  Kolkata Knight Riders   \n",
       "1  335982  2008-04-18  M Chinnaswamy Stadium  Kolkata Knight Riders   \n",
       "2  335982  2008-04-18  M Chinnaswamy Stadium  Kolkata Knight Riders   \n",
       "3  335982  2008-04-18  M Chinnaswamy Stadium  Kolkata Knight Riders   \n",
       "4  335982  2008-04-18  M Chinnaswamy Stadium  Kolkata Knight Riders   \n",
       "\n",
       "                     bowl_team      batsman   bowler  runs  wickets  overs  \\\n",
       "0  Royal Challengers Bangalore   SC Ganguly  P Kumar     1        1    0.0   \n",
       "1  Royal Challengers Bangalore  BB McCullum  P Kumar     0        2    0.1   \n",
       "2  Royal Challengers Bangalore  BB McCullum  P Kumar     1        3    0.2   \n",
       "3  Royal Challengers Bangalore  BB McCullum  P Kumar     0        4    0.3   \n",
       "4  Royal Challengers Bangalore  BB McCullum  P Kumar     0        5    0.4   \n",
       "\n",
       "   runs_last_5  wickets_last_5  striker  non_striker  total  \n",
       "0          1.0             1.0        1            0      1  \n",
       "1          1.0             2.0        1            1      1  \n",
       "2          2.0             3.0        2            1      2  \n",
       "3          2.0             4.0        2            2      2  \n",
       "4          2.0             5.0        2            2      2  "
      ]
     },
     "execution_count": 78,
     "metadata": {},
     "output_type": "execute_result"
    }
   ],
   "source": [
    "df.head()"
   ]
  },
  {
   "cell_type": "code",
   "execution_count": 79,
   "metadata": {},
   "outputs": [
    {
     "name": "stdout",
     "output_type": "stream",
     "text": [
      "<class 'pandas.core.frame.DataFrame'>\n",
      "RangeIndex: 260920 entries, 0 to 260919\n",
      "Data columns (total 15 columns):\n",
      " #   Column          Non-Null Count   Dtype  \n",
      "---  ------          --------------   -----  \n",
      " 0   mid             260920 non-null  int64  \n",
      " 1   date            260920 non-null  object \n",
      " 2   venue           260920 non-null  object \n",
      " 3   bat_team        260920 non-null  object \n",
      " 4   bowl_team       260920 non-null  object \n",
      " 5   batsman         260920 non-null  object \n",
      " 6   bowler          260920 non-null  object \n",
      " 7   runs            260920 non-null  int64  \n",
      " 8   wickets         260920 non-null  int64  \n",
      " 9   overs           260920 non-null  float64\n",
      " 10  runs_last_5     260920 non-null  float64\n",
      " 11  wickets_last_5  260920 non-null  float64\n",
      " 12  striker         260920 non-null  int64  \n",
      " 13  non_striker     260920 non-null  int64  \n",
      " 14  total           260920 non-null  int64  \n",
      "dtypes: float64(3), int64(6), object(6)\n",
      "memory usage: 29.9+ MB\n"
     ]
    }
   ],
   "source": [
    "df.info()"
   ]
  },
  {
   "cell_type": "markdown",
   "metadata": {},
   "source": [
    "# Observations\n",
    "\n",
    "- There are no null values in the data set.\n",
    "- Total of 260920 rows of records in the data.\n",
    "- Average Score is 157.21.\n"
   ]
  },
  {
   "cell_type": "code",
   "execution_count": 80,
   "metadata": {},
   "outputs": [
    {
     "data": {
      "text/html": [
       "<div>\n",
       "<style scoped>\n",
       "    .dataframe tbody tr th:only-of-type {\n",
       "        vertical-align: middle;\n",
       "    }\n",
       "\n",
       "    .dataframe tbody tr th {\n",
       "        vertical-align: top;\n",
       "    }\n",
       "\n",
       "    .dataframe thead th {\n",
       "        text-align: right;\n",
       "    }\n",
       "</style>\n",
       "<table border=\"1\" class=\"dataframe\">\n",
       "  <thead>\n",
       "    <tr style=\"text-align: right;\">\n",
       "      <th></th>\n",
       "      <th>mid</th>\n",
       "      <th>runs</th>\n",
       "      <th>wickets</th>\n",
       "      <th>overs</th>\n",
       "      <th>runs_last_5</th>\n",
       "      <th>wickets_last_5</th>\n",
       "      <th>striker</th>\n",
       "      <th>non_striker</th>\n",
       "      <th>total</th>\n",
       "    </tr>\n",
       "  </thead>\n",
       "  <tbody>\n",
       "    <tr>\n",
       "      <th>count</th>\n",
       "      <td>2.609200e+05</td>\n",
       "      <td>260920.000000</td>\n",
       "      <td>260920.000000</td>\n",
       "      <td>260920.000000</td>\n",
       "      <td>260920.000000</td>\n",
       "      <td>260920.000000</td>\n",
       "      <td>260920.000000</td>\n",
       "      <td>260920.000000</td>\n",
       "      <td>260920.000000</td>\n",
       "    </tr>\n",
       "    <tr>\n",
       "      <th>mean</th>\n",
       "      <td>9.070665e+05</td>\n",
       "      <td>1.332807</td>\n",
       "      <td>120.605442</td>\n",
       "      <td>9.460126</td>\n",
       "      <td>37.124601</td>\n",
       "      <td>120.605442</td>\n",
       "      <td>157.219895</td>\n",
       "      <td>157.219025</td>\n",
       "      <td>157.219895</td>\n",
       "    </tr>\n",
       "    <tr>\n",
       "      <th>std</th>\n",
       "      <td>3.679913e+05</td>\n",
       "      <td>1.626416</td>\n",
       "      <td>70.063473</td>\n",
       "      <td>5.686156</td>\n",
       "      <td>13.939299</td>\n",
       "      <td>70.063473</td>\n",
       "      <td>99.633758</td>\n",
       "      <td>99.634140</td>\n",
       "      <td>99.633758</td>\n",
       "    </tr>\n",
       "    <tr>\n",
       "      <th>min</th>\n",
       "      <td>3.359820e+05</td>\n",
       "      <td>0.000000</td>\n",
       "      <td>1.000000</td>\n",
       "      <td>0.000000</td>\n",
       "      <td>0.000000</td>\n",
       "      <td>1.000000</td>\n",
       "      <td>0.000000</td>\n",
       "      <td>0.000000</td>\n",
       "      <td>0.000000</td>\n",
       "    </tr>\n",
       "    <tr>\n",
       "      <th>25%</th>\n",
       "      <td>5.483340e+05</td>\n",
       "      <td>0.000000</td>\n",
       "      <td>60.000000</td>\n",
       "      <td>4.400000</td>\n",
       "      <td>29.000000</td>\n",
       "      <td>60.000000</td>\n",
       "      <td>71.000000</td>\n",
       "      <td>71.000000</td>\n",
       "      <td>71.000000</td>\n",
       "    </tr>\n",
       "    <tr>\n",
       "      <th>50%</th>\n",
       "      <td>9.809670e+05</td>\n",
       "      <td>1.000000</td>\n",
       "      <td>120.000000</td>\n",
       "      <td>9.300000</td>\n",
       "      <td>37.000000</td>\n",
       "      <td>120.000000</td>\n",
       "      <td>153.000000</td>\n",
       "      <td>153.000000</td>\n",
       "      <td>153.000000</td>\n",
       "    </tr>\n",
       "    <tr>\n",
       "      <th>75%</th>\n",
       "      <td>1.254066e+06</td>\n",
       "      <td>1.000000</td>\n",
       "      <td>180.000000</td>\n",
       "      <td>14.300000</td>\n",
       "      <td>46.000000</td>\n",
       "      <td>180.000000</td>\n",
       "      <td>235.000000</td>\n",
       "      <td>235.000000</td>\n",
       "      <td>235.000000</td>\n",
       "    </tr>\n",
       "    <tr>\n",
       "      <th>max</th>\n",
       "      <td>1.426312e+06</td>\n",
       "      <td>7.000000</td>\n",
       "      <td>269.000000</td>\n",
       "      <td>19.900000</td>\n",
       "      <td>113.000000</td>\n",
       "      <td>269.000000</td>\n",
       "      <td>549.000000</td>\n",
       "      <td>549.000000</td>\n",
       "      <td>549.000000</td>\n",
       "    </tr>\n",
       "  </tbody>\n",
       "</table>\n",
       "</div>"
      ],
      "text/plain": [
       "                mid           runs        wickets          overs  \\\n",
       "count  2.609200e+05  260920.000000  260920.000000  260920.000000   \n",
       "mean   9.070665e+05       1.332807     120.605442       9.460126   \n",
       "std    3.679913e+05       1.626416      70.063473       5.686156   \n",
       "min    3.359820e+05       0.000000       1.000000       0.000000   \n",
       "25%    5.483340e+05       0.000000      60.000000       4.400000   \n",
       "50%    9.809670e+05       1.000000     120.000000       9.300000   \n",
       "75%    1.254066e+06       1.000000     180.000000      14.300000   \n",
       "max    1.426312e+06       7.000000     269.000000      19.900000   \n",
       "\n",
       "         runs_last_5  wickets_last_5        striker    non_striker  \\\n",
       "count  260920.000000   260920.000000  260920.000000  260920.000000   \n",
       "mean       37.124601      120.605442     157.219895     157.219025   \n",
       "std        13.939299       70.063473      99.633758      99.634140   \n",
       "min         0.000000        1.000000       0.000000       0.000000   \n",
       "25%        29.000000       60.000000      71.000000      71.000000   \n",
       "50%        37.000000      120.000000     153.000000     153.000000   \n",
       "75%        46.000000      180.000000     235.000000     235.000000   \n",
       "max       113.000000      269.000000     549.000000     549.000000   \n",
       "\n",
       "               total  \n",
       "count  260920.000000  \n",
       "mean      157.219895  \n",
       "std        99.633758  \n",
       "min         0.000000  \n",
       "25%        71.000000  \n",
       "50%       153.000000  \n",
       "75%       235.000000  \n",
       "max       549.000000  "
      ]
     },
     "execution_count": 80,
     "metadata": {},
     "output_type": "execute_result"
    }
   ],
   "source": [
    "df.describe()"
   ]
  },
  {
   "cell_type": "code",
   "execution_count": 81,
   "metadata": {},
   "outputs": [
    {
     "data": {
      "text/plain": [
       "Index(['mid', 'date', 'venue', 'bat_team', 'bowl_team', 'batsman', 'bowler',\n",
       "       'runs', 'wickets', 'overs', 'runs_last_5', 'wickets_last_5', 'striker',\n",
       "       'non_striker', 'total'],\n",
       "      dtype='object')"
      ]
     },
     "execution_count": 81,
     "metadata": {},
     "output_type": "execute_result"
    }
   ],
   "source": [
    "df.columns"
   ]
  },
  {
   "cell_type": "code",
   "execution_count": 82,
   "metadata": {},
   "outputs": [
    {
     "data": {
      "text/plain": [
       "array(['Kolkata Knight Riders', 'Royal Challengers Bangalore',\n",
       "       'Chennai Super Kings', 'Kings XI Punjab', 'Rajasthan Royals',\n",
       "       'Delhi Daredevils', 'Mumbai Indians', 'Deccan Chargers',\n",
       "       'Kochi Tuskers Kerala', 'Pune Warriors', 'Sunrisers Hyderabad',\n",
       "       'Rising Pune Supergiants', 'Gujarat Lions',\n",
       "       'Rising Pune Supergiant', 'Delhi Capitals', 'Punjab Kings',\n",
       "       'Lucknow Super Giants', 'Gujarat Titans',\n",
       "       'Royal Challengers Bengaluru'], dtype=object)"
      ]
     },
     "execution_count": 82,
     "metadata": {},
     "output_type": "execute_result"
    }
   ],
   "source": [
    "df.bat_team.unique()"
   ]
  },
  {
   "cell_type": "code",
   "execution_count": 83,
   "metadata": {},
   "outputs": [
    {
     "data": {
      "text/plain": [
       "array(['Royal Challengers Bangalore', 'Kolkata Knight Riders',\n",
       "       'Kings XI Punjab', 'Chennai Super Kings', 'Delhi Daredevils',\n",
       "       'Rajasthan Royals', 'Mumbai Indians', 'Deccan Chargers',\n",
       "       'Kochi Tuskers Kerala', 'Pune Warriors', 'Sunrisers Hyderabad',\n",
       "       'Rising Pune Supergiants', 'Gujarat Lions',\n",
       "       'Rising Pune Supergiant', 'Delhi Capitals', 'Punjab Kings',\n",
       "       'Gujarat Titans', 'Lucknow Super Giants',\n",
       "       'Royal Challengers Bengaluru'], dtype=object)"
      ]
     },
     "execution_count": 83,
     "metadata": {},
     "output_type": "execute_result"
    }
   ],
   "source": [
    "df.bowl_team.unique()"
   ]
  },
  {
   "cell_type": "markdown",
   "metadata": {},
   "source": [
    "##### Observations\n",
    "\n",
    "- There Are Some Teams `['Pune Warriors', 'Kochi Tuskers Kerala','Rising Pune Supergiants', 'Gujarat Lions', 'Rising Pune Supergiant']` That Doesn't Play Now. So We Can Remove Them.\n",
    "- Teams Like `['Deccan Chargers','Delhi Daredevils']` changed their name to `['Sunrisers Hyderabad',\n",
    "'Delhi Capitals']` So We Can Combine Records of Both By Replacing Deccan Chargers with Sunrisers Hyderabaed.\n"
   ]
  },
  {
   "cell_type": "code",
   "execution_count": 84,
   "metadata": {},
   "outputs": [],
   "source": [
    "temp = df.copy()"
   ]
  },
  {
   "cell_type": "code",
   "execution_count": 85,
   "metadata": {},
   "outputs": [],
   "source": [
    "# Current Playing Teams (Till 2024 IPL Season)\n",
    "teams = [\n",
    "    'Chennai Super Kings',\n",
    "    'Kolkata Knight Riders',\n",
    "    'Kings XI Punjab',\n",
    "    'Delhi Capitals',\n",
    "    'Rajasthan Royals',\n",
    "    'Sunrisers Hyderabad',\n",
    "    'Mumbai Indians',\n",
    "    'Royal Challengers Bengaluru',\n",
    "    'Lucknow Super Giants',\n",
    "    'Gujarat Titans',\n",
    "]"
   ]
  },
  {
   "cell_type": "code",
   "execution_count": 86,
   "metadata": {},
   "outputs": [],
   "source": [
    "# Replace old team names with new ones\n",
    "temp['bowl_team'] = temp['bowl_team'].replace({\n",
    "    'Punjab Kings': 'Kings XI Punjab',\n",
    "    'Delhi Daredevils': 'Delhi Capitals',\n",
    "    'Deccan Chargers': 'Sunrisers Hyderabad',\n",
    "    'Rising Pune Supergiants': 'Rising Pune Supergiant',\n",
    "    'Royal Challengers Bangalore': 'Royal Challengers Bengaluru'\n",
    "})\n",
    "\n",
    "# Same for 'bat_team'\n",
    "temp['bat_team'] = temp['bat_team'].replace({\n",
    "    'Punjab Kings': 'Kings XI Punjab',\n",
    "    'Delhi Daredevils': 'Delhi Capitals',\n",
    "    'Deccan Chargers': 'Sunrisers Hyderabad',\n",
    "    'Rising Pune Supergiants': 'Rising Pune Supergiant',\n",
    "    'Royal Challengers Bangalore': 'Royal Challengers Bengaluru'\n",
    "})"
   ]
  },
  {
   "cell_type": "code",
   "execution_count": 87,
   "metadata": {},
   "outputs": [],
   "source": [
    "# Filter out teams that no longer play\n",
    "temp = temp[(temp['bat_team'].isin(teams)) & (temp['bowl_team'].isin(teams))]"
   ]
  },
  {
   "cell_type": "code",
   "execution_count": 88,
   "metadata": {},
   "outputs": [
    {
     "data": {
      "text/plain": [
       "array(['Kolkata Knight Riders', 'Royal Challengers Bengaluru',\n",
       "       'Chennai Super Kings', 'Kings XI Punjab', 'Rajasthan Royals',\n",
       "       'Delhi Capitals', 'Mumbai Indians', 'Sunrisers Hyderabad',\n",
       "       'Lucknow Super Giants', 'Gujarat Titans'], dtype=object)"
      ]
     },
     "execution_count": 88,
     "metadata": {},
     "output_type": "execute_result"
    }
   ],
   "source": [
    "temp.bat_team.unique()"
   ]
  },
  {
   "cell_type": "code",
   "execution_count": 89,
   "metadata": {},
   "outputs": [
    {
     "data": {
      "text/plain": [
       "array(['Royal Challengers Bengaluru', 'Kolkata Knight Riders',\n",
       "       'Kings XI Punjab', 'Chennai Super Kings', 'Delhi Capitals',\n",
       "       'Rajasthan Royals', 'Mumbai Indians', 'Sunrisers Hyderabad',\n",
       "       'Gujarat Titans', 'Lucknow Super Giants'], dtype=object)"
      ]
     },
     "execution_count": 89,
     "metadata": {},
     "output_type": "execute_result"
    }
   ],
   "source": [
    "temp.bowl_team.unique()"
   ]
  },
  {
   "cell_type": "code",
   "execution_count": 90,
   "metadata": {},
   "outputs": [],
   "source": [
    "df = temp"
   ]
  },
  {
   "cell_type": "code",
   "execution_count": 91,
   "metadata": {},
   "outputs": [
    {
     "data": {
      "text/plain": [
       "array(['Kolkata Knight Riders', 'Royal Challengers Bengaluru',\n",
       "       'Chennai Super Kings', 'Kings XI Punjab', 'Rajasthan Royals',\n",
       "       'Delhi Capitals', 'Mumbai Indians', 'Sunrisers Hyderabad',\n",
       "       'Lucknow Super Giants', 'Gujarat Titans'], dtype=object)"
      ]
     },
     "execution_count": 91,
     "metadata": {},
     "output_type": "execute_result"
    }
   ],
   "source": [
    "df.bat_team.unique()"
   ]
  },
  {
   "cell_type": "markdown",
   "metadata": {},
   "source": [
    "# Removing First 5 Overs Data in Every Match\n"
   ]
  },
  {
   "cell_type": "code",
   "execution_count": 92,
   "metadata": {},
   "outputs": [],
   "source": [
    "temp = df.copy()"
   ]
  },
  {
   "cell_type": "code",
   "execution_count": 93,
   "metadata": {},
   "outputs": [],
   "source": [
    "df = df[df['overs'] >= 5.0]"
   ]
  },
  {
   "cell_type": "code",
   "execution_count": 94,
   "metadata": {},
   "outputs": [
    {
     "data": {
      "text/plain": [
       "((233901, 15), (172643, 15))"
      ]
     },
     "execution_count": 94,
     "metadata": {},
     "output_type": "execute_result"
    }
   ],
   "source": [
    "temp.shape, df.shape"
   ]
  },
  {
   "cell_type": "code",
   "execution_count": 95,
   "metadata": {},
   "outputs": [
    {
     "data": {
      "text/plain": [
       "Index(['mid', 'date', 'venue', 'bat_team', 'bowl_team', 'batsman', 'bowler',\n",
       "       'runs', 'wickets', 'overs', 'runs_last_5', 'wickets_last_5', 'striker',\n",
       "       'non_striker', 'total'],\n",
       "      dtype='object')"
      ]
     },
     "execution_count": 95,
     "metadata": {},
     "output_type": "execute_result"
    }
   ],
   "source": [
    "df.columns"
   ]
  },
  {
   "cell_type": "code",
   "execution_count": 96,
   "metadata": {},
   "outputs": [
    {
     "data": {
      "text/html": [
       "<div>\n",
       "<style scoped>\n",
       "    .dataframe tbody tr th:only-of-type {\n",
       "        vertical-align: middle;\n",
       "    }\n",
       "\n",
       "    .dataframe tbody tr th {\n",
       "        vertical-align: top;\n",
       "    }\n",
       "\n",
       "    .dataframe thead th {\n",
       "        text-align: right;\n",
       "    }\n",
       "</style>\n",
       "<table border=\"1\" class=\"dataframe\">\n",
       "  <thead>\n",
       "    <tr style=\"text-align: right;\">\n",
       "      <th></th>\n",
       "      <th>mid</th>\n",
       "      <th>date</th>\n",
       "      <th>venue</th>\n",
       "      <th>bat_team</th>\n",
       "      <th>bowl_team</th>\n",
       "      <th>batsman</th>\n",
       "      <th>bowler</th>\n",
       "      <th>runs</th>\n",
       "      <th>wickets</th>\n",
       "      <th>overs</th>\n",
       "      <th>runs_last_5</th>\n",
       "      <th>wickets_last_5</th>\n",
       "      <th>striker</th>\n",
       "      <th>non_striker</th>\n",
       "      <th>total</th>\n",
       "    </tr>\n",
       "  </thead>\n",
       "  <tbody>\n",
       "    <tr>\n",
       "      <th>32</th>\n",
       "      <td>335982</td>\n",
       "      <td>2008-04-18</td>\n",
       "      <td>M Chinnaswamy Stadium</td>\n",
       "      <td>Kolkata Knight Riders</td>\n",
       "      <td>Royal Challengers Bengaluru</td>\n",
       "      <td>BB McCullum</td>\n",
       "      <td>Z Khan</td>\n",
       "      <td>1</td>\n",
       "      <td>33</td>\n",
       "      <td>5.0</td>\n",
       "      <td>59.0</td>\n",
       "      <td>33.0</td>\n",
       "      <td>61</td>\n",
       "      <td>60</td>\n",
       "      <td>61</td>\n",
       "    </tr>\n",
       "    <tr>\n",
       "      <th>33</th>\n",
       "      <td>335982</td>\n",
       "      <td>2008-04-18</td>\n",
       "      <td>M Chinnaswamy Stadium</td>\n",
       "      <td>Kolkata Knight Riders</td>\n",
       "      <td>Royal Challengers Bengaluru</td>\n",
       "      <td>SC Ganguly</td>\n",
       "      <td>Z Khan</td>\n",
       "      <td>0</td>\n",
       "      <td>34</td>\n",
       "      <td>5.1</td>\n",
       "      <td>59.0</td>\n",
       "      <td>34.0</td>\n",
       "      <td>61</td>\n",
       "      <td>61</td>\n",
       "      <td>61</td>\n",
       "    </tr>\n",
       "    <tr>\n",
       "      <th>34</th>\n",
       "      <td>335982</td>\n",
       "      <td>2008-04-18</td>\n",
       "      <td>M Chinnaswamy Stadium</td>\n",
       "      <td>Kolkata Knight Riders</td>\n",
       "      <td>Royal Challengers Bengaluru</td>\n",
       "      <td>RT Ponting</td>\n",
       "      <td>Z Khan</td>\n",
       "      <td>0</td>\n",
       "      <td>35</td>\n",
       "      <td>5.2</td>\n",
       "      <td>59.0</td>\n",
       "      <td>35.0</td>\n",
       "      <td>61</td>\n",
       "      <td>61</td>\n",
       "      <td>61</td>\n",
       "    </tr>\n",
       "  </tbody>\n",
       "</table>\n",
       "</div>"
      ],
      "text/plain": [
       "       mid        date                  venue               bat_team  \\\n",
       "32  335982  2008-04-18  M Chinnaswamy Stadium  Kolkata Knight Riders   \n",
       "33  335982  2008-04-18  M Chinnaswamy Stadium  Kolkata Knight Riders   \n",
       "34  335982  2008-04-18  M Chinnaswamy Stadium  Kolkata Knight Riders   \n",
       "\n",
       "                      bowl_team      batsman  bowler  runs  wickets  overs  \\\n",
       "32  Royal Challengers Bengaluru  BB McCullum  Z Khan     1       33    5.0   \n",
       "33  Royal Challengers Bengaluru   SC Ganguly  Z Khan     0       34    5.1   \n",
       "34  Royal Challengers Bengaluru   RT Ponting  Z Khan     0       35    5.2   \n",
       "\n",
       "    runs_last_5  wickets_last_5  striker  non_striker  total  \n",
       "32         59.0            33.0       61           60     61  \n",
       "33         59.0            34.0       61           61     61  \n",
       "34         59.0            35.0       61           61     61  "
      ]
     },
     "execution_count": 96,
     "metadata": {},
     "output_type": "execute_result"
    }
   ],
   "source": [
    "df.head(3)"
   ]
  },
  {
   "cell_type": "code",
   "execution_count": 97,
   "metadata": {},
   "outputs": [
    {
     "name": "stdout",
     "output_type": "stream",
     "text": [
      "Column mid has 979 unique values\n",
      "Column date has 769 unique values\n",
      "Column venue has 55 unique values\n",
      "Column bat_team has 10 unique values\n",
      "Column bowl_team has 10 unique values\n",
      "Column batsman has 636 unique values\n",
      "Column bowler has 504 unique values\n",
      "Column runs has 8 unique values\n",
      "Column wickets has 235 unique values\n",
      "Column overs has 148 unique values\n",
      "Column runs_last_5 has 98 unique values\n",
      "Column wickets_last_5 has 235 unique values\n",
      "Column striker has 507 unique values\n",
      "Column non_striker has 507 unique values\n",
      "Column total has 507 unique values\n"
     ]
    }
   ],
   "source": [
    "# Checking Unique Values In Every Columns\n",
    "for col in df.columns:\n",
    "    print(f\"Column {col} has {df[col].nunique()} unique values\")"
   ]
  },
  {
   "cell_type": "markdown",
   "metadata": {},
   "source": [
    "# Dropping Unnecessary Columns\n",
    "\n",
    "1. Batsman : Players Gets Removed and Added In Every Match. Having Data Only For 636 Players Is Not Enough.\n",
    "2. Bowler: Less Data Contains Only 504 Bowlers.\n",
    "3. mid: ID of match (Not Required For Prediction)\n",
    "4. striker : Batsman on strike (Same Reason as Col batsman and bowler)\n",
    "5. non-striker: Same Reason as Col batsman and bowler.\n",
    "   <br><br>\n",
    "   ➡️ Date : It is also not required but we will use it to split the data based on season.\n"
   ]
  },
  {
   "cell_type": "code",
   "execution_count": 98,
   "metadata": {},
   "outputs": [],
   "source": [
    "# columns = ['mid', 'batsman', 'bowler', 'striker', 'non_striker', 'venue']\n",
    "columns = ['batsman', 'bowler', 'striker', 'non_striker', 'venue']\n",
    "df.drop(columns, inplace=True, axis=1)"
   ]
  },
  {
   "cell_type": "code",
   "execution_count": 99,
   "metadata": {},
   "outputs": [
    {
     "data": {
      "text/html": [
       "<div>\n",
       "<style scoped>\n",
       "    .dataframe tbody tr th:only-of-type {\n",
       "        vertical-align: middle;\n",
       "    }\n",
       "\n",
       "    .dataframe tbody tr th {\n",
       "        vertical-align: top;\n",
       "    }\n",
       "\n",
       "    .dataframe thead th {\n",
       "        text-align: right;\n",
       "    }\n",
       "</style>\n",
       "<table border=\"1\" class=\"dataframe\">\n",
       "  <thead>\n",
       "    <tr style=\"text-align: right;\">\n",
       "      <th></th>\n",
       "      <th>mid</th>\n",
       "      <th>date</th>\n",
       "      <th>bat_team</th>\n",
       "      <th>bowl_team</th>\n",
       "      <th>runs</th>\n",
       "      <th>wickets</th>\n",
       "      <th>overs</th>\n",
       "      <th>runs_last_5</th>\n",
       "      <th>wickets_last_5</th>\n",
       "      <th>total</th>\n",
       "    </tr>\n",
       "  </thead>\n",
       "  <tbody>\n",
       "    <tr>\n",
       "      <th>32</th>\n",
       "      <td>335982</td>\n",
       "      <td>2008-04-18</td>\n",
       "      <td>Kolkata Knight Riders</td>\n",
       "      <td>Royal Challengers Bengaluru</td>\n",
       "      <td>1</td>\n",
       "      <td>33</td>\n",
       "      <td>5.0</td>\n",
       "      <td>59.0</td>\n",
       "      <td>33.0</td>\n",
       "      <td>61</td>\n",
       "    </tr>\n",
       "    <tr>\n",
       "      <th>33</th>\n",
       "      <td>335982</td>\n",
       "      <td>2008-04-18</td>\n",
       "      <td>Kolkata Knight Riders</td>\n",
       "      <td>Royal Challengers Bengaluru</td>\n",
       "      <td>0</td>\n",
       "      <td>34</td>\n",
       "      <td>5.1</td>\n",
       "      <td>59.0</td>\n",
       "      <td>34.0</td>\n",
       "      <td>61</td>\n",
       "    </tr>\n",
       "    <tr>\n",
       "      <th>34</th>\n",
       "      <td>335982</td>\n",
       "      <td>2008-04-18</td>\n",
       "      <td>Kolkata Knight Riders</td>\n",
       "      <td>Royal Challengers Bengaluru</td>\n",
       "      <td>0</td>\n",
       "      <td>35</td>\n",
       "      <td>5.2</td>\n",
       "      <td>59.0</td>\n",
       "      <td>35.0</td>\n",
       "      <td>61</td>\n",
       "    </tr>\n",
       "    <tr>\n",
       "      <th>35</th>\n",
       "      <td>335982</td>\n",
       "      <td>2008-04-18</td>\n",
       "      <td>Kolkata Knight Riders</td>\n",
       "      <td>Royal Challengers Bengaluru</td>\n",
       "      <td>0</td>\n",
       "      <td>36</td>\n",
       "      <td>5.3</td>\n",
       "      <td>59.0</td>\n",
       "      <td>36.0</td>\n",
       "      <td>61</td>\n",
       "    </tr>\n",
       "    <tr>\n",
       "      <th>36</th>\n",
       "      <td>335982</td>\n",
       "      <td>2008-04-18</td>\n",
       "      <td>Kolkata Knight Riders</td>\n",
       "      <td>Royal Challengers Bengaluru</td>\n",
       "      <td>0</td>\n",
       "      <td>37</td>\n",
       "      <td>5.4</td>\n",
       "      <td>58.0</td>\n",
       "      <td>37.0</td>\n",
       "      <td>61</td>\n",
       "    </tr>\n",
       "  </tbody>\n",
       "</table>\n",
       "</div>"
      ],
      "text/plain": [
       "       mid        date               bat_team                    bowl_team  \\\n",
       "32  335982  2008-04-18  Kolkata Knight Riders  Royal Challengers Bengaluru   \n",
       "33  335982  2008-04-18  Kolkata Knight Riders  Royal Challengers Bengaluru   \n",
       "34  335982  2008-04-18  Kolkata Knight Riders  Royal Challengers Bengaluru   \n",
       "35  335982  2008-04-18  Kolkata Knight Riders  Royal Challengers Bengaluru   \n",
       "36  335982  2008-04-18  Kolkata Knight Riders  Royal Challengers Bengaluru   \n",
       "\n",
       "    runs  wickets  overs  runs_last_5  wickets_last_5  total  \n",
       "32     1       33    5.0         59.0            33.0     61  \n",
       "33     0       34    5.1         59.0            34.0     61  \n",
       "34     0       35    5.2         59.0            35.0     61  \n",
       "35     0       36    5.3         59.0            36.0     61  \n",
       "36     0       37    5.4         58.0            37.0     61  "
      ]
     },
     "execution_count": 99,
     "metadata": {},
     "output_type": "execute_result"
    }
   ],
   "source": [
    "df.head()"
   ]
  },
  {
   "cell_type": "markdown",
   "metadata": {},
   "source": [
    "##### Date\n"
   ]
  },
  {
   "cell_type": "code",
   "execution_count": 60,
   "metadata": {},
   "outputs": [
    {
     "data": {
      "text/plain": [
       "dtype('O')"
      ]
     },
     "execution_count": 60,
     "metadata": {},
     "output_type": "execute_result"
    }
   ],
   "source": [
    "df.date.dtype"
   ]
  },
  {
   "cell_type": "code",
   "execution_count": 61,
   "metadata": {},
   "outputs": [
    {
     "data": {
      "text/plain": [
       "32    2008-04-18\n",
       "33    2008-04-18\n",
       "34    2008-04-18\n",
       "35    2008-04-18\n",
       "36    2008-04-18\n",
       "Name: date, dtype: object"
      ]
     },
     "execution_count": 61,
     "metadata": {},
     "output_type": "execute_result"
    }
   ],
   "source": [
    "df.date.head()"
   ]
  },
  {
   "cell_type": "code",
   "execution_count": 62,
   "metadata": {},
   "outputs": [],
   "source": [
    "df['season'] = df['date'].apply(lambda x: x.split('-')[0]).astype(int)"
   ]
  },
  {
   "cell_type": "code",
   "execution_count": 63,
   "metadata": {},
   "outputs": [
    {
     "data": {
      "text/plain": [
       "32        2008\n",
       "33        2008\n",
       "34        2008\n",
       "35        2008\n",
       "36        2008\n",
       "          ... \n",
       "260915    2024\n",
       "260916    2024\n",
       "260917    2024\n",
       "260918    2024\n",
       "260919    2024\n",
       "Name: season, Length: 172643, dtype: int32"
      ]
     },
     "execution_count": 63,
     "metadata": {},
     "output_type": "execute_result"
    }
   ],
   "source": [
    "df['season']"
   ]
  },
  {
   "cell_type": "code",
   "execution_count": null,
   "metadata": {},
   "outputs": [
    {
     "name": "stderr",
     "output_type": "stream",
     "text": [
      "C:\\Users\\avina\\AppData\\Local\\Temp\\ipykernel_21084\\2466594152.py:1: DeprecationWarning: DataFrameGroupBy.apply operated on the grouping columns. This behavior is deprecated, and in a future version of pandas the grouping columns will be excluded from the operation. Either pass `include_groups=False` to exclude the groupings or explicitly select the grouping columns after groupby to silence this warning.\n",
      "  matches_per_season = df.groupby('season').apply(\n"
     ]
    },
    {
     "data": {
      "image/png": "[encoded data removed]",
      "text/plain": [
       "<Figure size 1200x600 with 1 Axes>"
      ]
     },
     "metadata": {},
     "output_type": "display_data"
    }
   ],
   "source": [
    "matches_per_season = df.groupby('season').apply(\n",
    "    lambda x:  round(x[['date', 'bat_team', 'bowl_team']\n",
    "                       ].drop_duplicates().shape[0]/2)\n",
    ").reset_index(name='match_count')\n",
    "\n",
    "\n",
    "matches_per_season = matches_per_season[['season', 'match_count']]\n",
    "\n",
    "\n",
    "plt.figure(figsize=(12, 6))\n",
    "ax = sns.barplot(x='season', y='match_count', data=matches_per_season)\n",
    "ax.bar_label(ax.containers[0])\n",
    "plt.title('Total Number of Matches per Season')\n",
    "plt.xlabel('Season')\n",
    "plt.ylabel('Count of Matches')\n",
    "plt.show()"
   ]
  },
  {
   "cell_type": "code",
   "execution_count": null,
   "metadata": {},
   "outputs": [],
   "source": [
    "df.drop('date', inplace=True, axis=1)"
   ]
  },
  {
   "cell_type": "code",
   "execution_count": null,
   "metadata": {},
   "outputs": [],
   "source": [
    "# Average Score By Each Team\n",
    "pd.DataFrame(df.groupby(['bat_team'])['total'].mean())"
   ]
  },
  {
   "cell_type": "code",
   "execution_count": null,
   "metadata": {},
   "outputs": [],
   "source": [
    "# One Hot Encoding\n",
    "df = pd.get_dummies(data=df, columns=['bat_team', 'bowl_team'])"
   ]
  },
  {
   "cell_type": "code",
   "execution_count": null,
   "metadata": {},
   "outputs": [],
   "source": [
    "df.head()"
   ]
  },
  {
   "cell_type": "markdown",
   "metadata": {},
   "source": [
    "Correlation\n"
   ]
  },
  {
   "cell_type": "code",
   "execution_count": null,
   "metadata": {},
   "outputs": [],
   "source": [
    "df.season"
   ]
  },
  {
   "cell_type": "code",
   "execution_count": null,
   "metadata": {},
   "outputs": [],
   "source": [
    "# ## Splliting Data\n",
    "# X_train = df[df['season']<=2015]\n",
    "# X_train = X_train.drop(['total','season'],axis=1)\n",
    "\n",
    "# y_train = df[df['season']<=2015]\n",
    "# y_train = y_train['total']\n",
    "\n",
    "# X_test = df[df['season']>2015]\n",
    "# X_test = X_test.drop(['total','season'],axis=1)\n",
    "\n",
    "# y_test = df[df['season']>2015]\n",
    "# y_test = y_test['total']"
   ]
  },
  {
   "cell_type": "code",
   "execution_count": null,
   "metadata": {},
   "outputs": [],
   "source": [
    "# Shuffling Dataset\n",
    "from sklearn.model_selection import train_test_split\n",
    "df = df.sample(df.shape[0])\n",
    "\n",
    "# Splitting Using Train Test Split\n",
    "X = df.drop(['total', 'season'], axis=1)\n",
    "y = df['total']\n",
    "X_train, X_test, y_train, y_test = train_test_split(X, y, test_size=0.3)\n",
    "\n",
    "# from sklearn.model_selection import KFold\n",
    "# kf = RepeatedKFold(n_splits=3, n_repeats=10, random_state=None)\n",
    "\n",
    "# for train_index, test_index in kf.split(X):\n",
    "#       print(\"Train:\", train_index, \"Validation:\",test_index)\n",
    "#       X_train, X_test = X[train_index], X[test_index]\n",
    "#       y_train, y_test = y[train_index], y[test_index]"
   ]
  },
  {
   "cell_type": "code",
   "execution_count": null,
   "metadata": {},
   "outputs": [],
   "source": [
    "X_train.shape"
   ]
  },
  {
   "cell_type": "code",
   "execution_count": null,
   "metadata": {},
   "outputs": [],
   "source": [
    "y_train.head()"
   ]
  },
  {
   "cell_type": "code",
   "execution_count": null,
   "metadata": {},
   "outputs": [],
   "source": [
    "X_test.shape"
   ]
  },
  {
   "cell_type": "code",
   "execution_count": null,
   "metadata": {},
   "outputs": [],
   "source": [
    "y_test.head()"
   ]
  },
  {
   "cell_type": "code",
   "execution_count": null,
   "metadata": {},
   "outputs": [],
   "source": [
    "X_train.head()"
   ]
  },
  {
   "cell_type": "code",
   "execution_count": null,
   "metadata": {},
   "outputs": [],
   "source": [
    "corrmat = df.corr()\n",
    "plt.figure(figsize=(40, 15))\n",
    "# plot heat map\n",
    "sns.heatmap(corrmat, annot=True, cmap=\"RdYlGn\")"
   ]
  },
  {
   "cell_type": "code",
   "execution_count": null,
   "metadata": {},
   "outputs": [],
   "source": [
    "# Feature Importance\n",
    "from sklearn.ensemble import ExtraTreesRegressor\n",
    "model = ExtraTreesRegressor()\n",
    "model.fit(X_train, y_train)\n",
    "\n",
    "# plot graph of feature importances for better visualization\n",
    "feat_importances = pd.Series(model.feature_importances_, index=X_train.columns)\n",
    "feat_importances.nlargest(15).plot(kind='barh')\n",
    "plt.show()"
   ]
  },
  {
   "cell_type": "markdown",
   "metadata": {},
   "source": [
    "## MODEL TRAINING\n"
   ]
  },
  {
   "cell_type": "markdown",
   "metadata": {},
   "source": [
    "Training Model With Base Parameters\n"
   ]
  },
  {
   "cell_type": "code",
   "execution_count": null,
   "metadata": {},
   "outputs": [],
   "source": [
    "from sklearn.metrics import r2_score, mean_absolute_error, mean_squared_error"
   ]
  },
  {
   "cell_type": "code",
   "execution_count": null,
   "metadata": {},
   "outputs": [],
   "source": [
    "r2_scores = {}\n",
    "mae = {}"
   ]
  },
  {
   "cell_type": "code",
   "execution_count": null,
   "metadata": {},
   "outputs": [],
   "source": [
    "######### LINEAR REGRESSION ###########\n",
    "from sklearn.linear_model import LinearRegression\n",
    "lr = LinearRegression()\n",
    "lr.fit(X_train, y_train)\n",
    "\n",
    "predictions = lr.predict(X_test)\n",
    "print(\"Predictions:\\n\", predictions)\n",
    "\n",
    "print('\\n')\n",
    "print('r2 score on Training Data {}'.format(\n",
    "    r2_score(y_train, lr.predict(X_train))))\n",
    "print(\"r2 score Test Data is: {}\".format(r2_score(y_test, predictions)))\n",
    "print('\\n')\n",
    "print('MAE:{}'.format(mean_absolute_error(y_test, predictions)))\n",
    "print('MSE:{}'.format(mean_squared_error(y_test, predictions)))\n",
    "print('RMSE:{}'.format(np.sqrt(mean_squared_error(y_test, predictions))))\n",
    "\n",
    "r2_scores['Linear Regression'] = r2_score(y_test, predictions)\n",
    "mae['Linear Regression'] = mean_absolute_error(y_test, predictions)\n",
    "\n",
    "sns.distplot(y_test-predictions)"
   ]
  },
  {
   "cell_type": "code",
   "execution_count": null,
   "metadata": {},
   "outputs": [],
   "source": [
    "########## DECISION TREES ########\n",
    "from sklearn.tree import DecisionTreeRegressor\n",
    "dtr = DecisionTreeRegressor(max_depth=5, max_features=3, random_state=42)\n",
    "dtr.fit(X_train, y_train)\n",
    "\n",
    "predictions = dtr.predict(X_test)\n",
    "print(\"Predictions:\\n\", predictions)\n",
    "\n",
    "print('\\n')\n",
    "print('r2 score on Training Data {}'.format(\n",
    "    r2_score(y_train, dtr.predict(X_train))))\n",
    "print(\"r2 score Test Data is: {}\".format(r2_score(y_test, predictions)))\n",
    "print('\\n')\n",
    "print('MAE:{}'.format(mean_absolute_error(y_test, predictions)))\n",
    "print('MSE:{}'.format(mean_squared_error(y_test, predictions)))\n",
    "print('RMSE:{}'.format(np.sqrt(mean_squared_error(y_test, predictions))))\n",
    "\n",
    "r2_scores['DecisionTreeRegressor'] = r2_score(y_test, predictions)\n",
    "mae['DecisionTreeRegressor'] = mean_absolute_error(y_test, predictions)\n",
    "\n",
    "\n",
    "sns.distplot(y_test-predictions)"
   ]
  },
  {
   "cell_type": "code",
   "execution_count": null,
   "metadata": {},
   "outputs": [],
   "source": [
    "########## RANDOM FOREST  ########\n",
    "from sklearn.ensemble import RandomForestRegressor\n",
    "rf = RandomForestRegressor(random_state=42, max_depth=15,\n",
    "                           n_estimators=100, max_features='auto', min_samples_split=5)\n",
    "rf.fit(X_train, y_train)\n",
    "\n",
    "predictions = rf.predict(X_test)\n",
    "print(\"Predictions:\\n\", predictions)\n",
    "\n",
    "print('\\n')\n",
    "print('r2 score on Training Data {}'.format(\n",
    "    r2_score(y_train, rf.predict(X_train))))\n",
    "print(\"r2 score Test Data is: {}\".format(r2_score(y_test, predictions)))\n",
    "print('\\n')\n",
    "print('MAE:{}'.format(mean_absolute_error(y_test, predictions)))\n",
    "print('MSE:{}'.format(mean_squared_error(y_test, predictions)))\n",
    "print('RMSE:{}'.format(np.sqrt(mean_squared_error(y_test, predictions))))\n",
    "\n",
    "r2_scores['RandomForestRegressor'] = r2_score(y_test, predictions)\n",
    "mae['RandomForestRegressor'] = mean_absolute_error(y_test, predictions)\n",
    "\n",
    "\n",
    "sns.distplot(y_test-predictions)"
   ]
  },
  {
   "cell_type": "code",
   "execution_count": null,
   "metadata": {},
   "outputs": [],
   "source": [
    "######### EXTRA TREE REGRESSOR ########\n",
    "from sklearn.ensemble import ExtraTreesRegressor\n",
    "etr = ExtraTreesRegressor(max_depth=15, n_estimators=100,\n",
    "                          max_features='auto', min_samples_split=5)\n",
    "etr.fit(X_train, y_train)\n",
    "\n",
    "predictions = etr.predict(X_test)\n",
    "print(\"Predictions:\\n\", predictions)\n",
    "\n",
    "print('\\n')\n",
    "print('r2 score on Training Data {}'.format(\n",
    "    r2_score(y_train, etr.predict(X_train))))\n",
    "print(\"r2 score Test Data is: {}\".format(r2_score(y_test, predictions)))\n",
    "print('\\n')\n",
    "\n",
    "print('MAE:{}'.format(mean_absolute_error(y_test, predictions)))\n",
    "print('MSE:{}'.format(mean_squared_error(y_test, predictions)))\n",
    "print('RMSE:{}'.format(np.sqrt(mean_squared_error(y_test, predictions))))\n",
    "\n",
    "r2_scores['ExtraTreesRegressor'] = r2_score(y_test, predictions)\n",
    "mae['ExtraTreesRegressor'] = mean_absolute_error(y_test, predictions)\n",
    "\n",
    "\n",
    "sns.distplot(y_test-predictions)"
   ]
  },
  {
   "cell_type": "code",
   "execution_count": null,
   "metadata": {},
   "outputs": [],
   "source": [
    "################### GradientBoostingRegressor ###############\n",
    "from sklearn.ensemble import GradientBoostingRegressor\n",
    "gbr = GradientBoostingRegressor()\n",
    "gbr.fit(X_train, y_train)\n",
    "\n",
    "predictions = gbr.predict(X_test)\n",
    "print(\"Predictions:\\n\", predictions)\n",
    "\n",
    "print('\\n')\n",
    "print('r2 score on Training Data {}'.format(\n",
    "    r2_score(y_train, gbr.predict(X_train))))\n",
    "print(\"r2 score Test Data is: {}\".format(r2_score(y_test, predictions)))\n",
    "print('\\n')\n",
    "print('MAE:{}'.format(mean_absolute_error(y_test, predictions)))\n",
    "print('MSE:{}'.format(mean_squared_error(y_test, predictions)))\n",
    "print('RMSE:{}'.format(np.sqrt(mean_squared_error(y_test, predictions))))\n",
    "\n",
    "\n",
    "r2_scores['GradientBoostingRegressor'] = r2_score(y_test, predictions)\n",
    "mae['GradientBoostingRegressor'] = mean_absolute_error(y_test, predictions)\n",
    "\n",
    "\n",
    "sns.distplot(y_test-predictions)"
   ]
  },
  {
   "cell_type": "code",
   "execution_count": null,
   "metadata": {},
   "outputs": [],
   "source": [
    "################### XGBRegressor ###############\n",
    "from xgboost import XGBRegressor\n",
    "xgb = XGBRegressor()\n",
    "xgb.fit(X_train, y_train)\n",
    "\n",
    "predictions = xgb.predict(X_test)\n",
    "print(\"Predictions:\\n\", predictions)\n",
    "\n",
    "print('\\n')\n",
    "print('r2 score on Training Data {}'.format(\n",
    "    r2_score(y_train, xgb.predict(X_train))))\n",
    "print(\"r2 score Test Data is: {}\".format(r2_score(y_test, predictions)))\n",
    "print('\\n')\n",
    "print('MAE:{}'.format(mean_absolute_error(y_test, predictions)))\n",
    "print('MSE:{}'.format(mean_squared_error(y_test, predictions)))\n",
    "print('RMSE:{}'.format(np.sqrt(mean_squared_error(y_test, predictions))))\n",
    "\n",
    "r2_scores['XGBRegressor'] = r2_score(y_test, predictions)\n",
    "mae['XGBRegressor'] = mean_absolute_error(y_test, predictions)\n",
    "\n",
    "\n",
    "sns.distplot(y_test-predictions)"
   ]
  },
  {
   "cell_type": "code",
   "execution_count": null,
   "metadata": {},
   "outputs": [],
   "source": [
    "# Comparing Different R2 Scores\n",
    "plt.figure(figsize=(16, 6))\n",
    "scores = pd.DataFrame(r2_scores.items(), columns=['Model', 'Accuracy'])\n",
    "ax = sns.barplot(data=scores.sort_values(\n",
    "    \"Accuracy\", ascending=False), x='Model', y='Accuracy')\n",
    "ax.bar_label(ax.containers[0])"
   ]
  },
  {
   "cell_type": "code",
   "execution_count": null,
   "metadata": {},
   "outputs": [],
   "source": [
    "# Comparing Different MAE\n",
    "plt.figure(figsize=(16, 6))\n",
    "scores = pd.DataFrame(mae.items(), columns=['Model', 'MAE'])\n",
    "ax = sns.barplot(data=scores.sort_values(\n",
    "    \"MAE\", ascending=True), x='Model', y='MAE')\n",
    "ax.bar_label(ax.containers[0])"
   ]
  },
  {
   "cell_type": "markdown",
   "metadata": {},
   "source": [
    "So Linear Regression Gives Least MAE with Highest Accuracy.\n"
   ]
  },
  {
   "cell_type": "code",
   "execution_count": null,
   "metadata": {},
   "outputs": [],
   "source": [
    "pd.set_option('display.max_columns', 2000)\n",
    "X_test.head()"
   ]
  },
  {
   "cell_type": "markdown",
   "metadata": {},
   "source": [
    "### Predicting On New Situations\n"
   ]
  },
  {
   "cell_type": "code",
   "execution_count": null,
   "metadata": {},
   "outputs": [],
   "source": [
    "# Actual 147\n",
    "data = [68, 3, 10.2, 29, 0, 1, 0, 0, 0, 0, 0, 0, 0, 1, 0, 0, 0, 0, 0, 0, 0]\n",
    "score = etr.predict([data])\n",
    "print(score)\n",
    "print(f'Final Score Will Be Between {int(score[0]-5)} and {int(score[0]+5)}')"
   ]
  },
  {
   "cell_type": "code",
   "execution_count": null,
   "metadata": {},
   "outputs": [],
   "source": [
    "# Actual 160\n",
    "data = [100, 3, 13.1, 42, 2, 0, 0, 0, 0, 0, 1, 0, 0, 0, 0, 0, 1, 0, 0, 0, 0]\n",
    "score = etr.predict([data])\n",
    "print(score)\n",
    "print(f'Final Score Will Be Between {int(score[0]-5)} and {int(score[0]+5)}')"
   ]
  },
  {
   "cell_type": "code",
   "execution_count": null,
   "metadata": {},
   "outputs": [],
   "source": [
    "# Actual 202\n",
    "data = [180, 2, 18, 70, 1, 1, 0, 0, 0, 0, 1, 0, 0, 0, 0, 0, 1, 0, 0, 0, 0]\n",
    "score = etr.predict([data])\n",
    "print(score)\n",
    "print(f'Final Score Will Be Between {int(score[0]-5)} and {int(score[0]+5)}')"
   ]
  },
  {
   "cell_type": "code",
   "execution_count": null,
   "metadata": {},
   "outputs": [],
   "source": [
    "import pickle\n",
    "file_name = 'predict_ipl_1st_innings_score_etr.pkl'\n",
    "pickle.dump(etr, open(file_name, 'wb'))"
   ]
  },
  {
   "cell_type": "code",
   "execution_count": null,
   "metadata": {},
   "outputs": [],
   "source": [
    "loaded_model = pickle.load(open(\"predict_ipl_1st_innings_score_etr.pkl\", \"rb\"))\n",
    "pred = loaded_model.predict(X_test)\n",
    "print(r2_score(y_test, pred))\n",
    "print('MAE:{}'.format(mean_absolute_error(y_test, pred)))\n",
    "print('MSE:{}'.format(mean_squared_error(y_test, pred)))\n",
    "print('RMSE:{}'.format(np.sqrt(mean_squared_error(y_test, pred))))"
   ]
  }
 ],
 "metadata": {
  "kernelspec": {
   "display_name": "Python 3",
   "language": "python",
   "name": "python3"
  },
  "language_info": {
   "codemirror_mode": {
    "name": "ipython",
    "version": 3
   },
   "file_extension": ".py",
   "mimetype": "text/x-python",
   "name": "python",
   "nbconvert_exporter": "python",
   "pygments_lexer": "ipython3",
   "version": "3.12.2"
  }
 },
 "nbformat": 4,
 "nbformat_minor": 4
}
